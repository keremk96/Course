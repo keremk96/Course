{
 "cells": [
  {
   "cell_type": "markdown",
   "metadata": {},
   "source": [
    "Liner Regression"
   ]
  },
  {
   "cell_type": "raw",
   "metadata": {},
   "source": [
    "STATSMODELS İLE MODELLEME\n",
    "\n",
    "import statsmodels.api as sm\n",
    "X = df[[\"TV\"]]\n",
    "X[0:5]\n",
    "\n",
    "X = sm.add_constant(X)\n",
    "X[0:5]\n",
    "\n",
    "y = df[\"sales\"]\n",
    "y[0:5]"
   ]
  },
  {
   "cell_type": "raw",
   "metadata": {},
   "source": [
    "lm = sm.OLS(y,X)\n",
    "model = lm.fit()\n",
    "model.summary()"
   ]
  },
  {
   "cell_type": "raw",
   "metadata": {},
   "source": [
    "import statsmodels.formula.api as smf\n",
    "lm = smf.ols(\"sales ~ TV\",df)\n",
    "model =  lm.fit()\n",
    "model.summary()"
   ]
  },
  {
   "cell_type": "raw",
   "metadata": {},
   "source": [
    "model.params #b0 and b1 #kat sayılar\n",
    "\n",
    "model.summary().tables[1] # kat sayılar\n",
    "\n",
    "model.conf_int() #kat sayıların güven aralığı \n",
    "\n",
    "print(\"f_pvalue: \",\"%.3f\" % model.f_pvalue)\n",
    "print(\"s statistic: \",\"%.3f\" % model.fvalue)\n",
    "print(\"tvalue: \",\"%.3f\" % model.tvalues[0:1])\n",
    "model.mse_model\n",
    "model.rsquared\n",
    "model.rsquared_adj\n",
    "\n",
    "model.fittedvalues[0:5] #tahmin edilen değerler\n",
    "y[0:5] # gerçek değerler\n",
    "\n",
    "#MODEL DENKLEMİ\n",
    "\n",
    "print(\"Sales = \" + str(\"%.2f\" % model.params[0]) + \" + TV \" + \"*\" + str(\"%.2f\") % model.params[1])"
   ]
  },
  {
   "cell_type": "raw",
   "metadata": {},
   "source": [
    "import matplotlib.pyplot as plt\n",
    "g = sns.regplot(df[\"TV\"],df[\"sales\"],ci=None,scatter_kws={\"color\" : \"r\",\"s\":9})\n",
    "g.set_title(\"Model Denklemi: Sales = 7.03 + TV*0.05\")\n",
    "g.set_ylabel(\"Satış Sayısı\")\n",
    "g.set_xlabel(\"TV Harcamaları\")\n",
    "plt.xlim(-10,310)\n",
    "plt.ylim(bottom=0);"
   ]
  },
  {
   "cell_type": "raw",
   "metadata": {},
   "source": [
    "from sklearn.linear_model import LinearRegression\n",
    "\n",
    "X = df[[\"TV\"]]\n",
    "y = df[[\"sales\"]]\n",
    "reg = LinearRegression()\n",
    "model = reg.fit(X,y)\n",
    "\n",
    "model.intercept_\n",
    "model.coef_\n",
    "\n",
    "model.score(X,y) #r-sq değeri\n",
    "model.predict(X)[0:10] # tahnin edilen değerler\n",
    "\n"
   ]
  },
  {
   "cell_type": "raw",
   "metadata": {},
   "source": [
    "Prediction\n",
    "\n",
    "X = df[[\"TV\"]]\n",
    "y = df[\"sales\"]\n",
    "reg = LinearRegression() #burda nesneyi oluşturduk\n",
    "model = reg.fit(X,y) #burda fitleme yaptık\n",
    "model.predict([[30]])"
   ]
  },
  {
   "cell_type": "raw",
   "metadata": {},
   "source": [
    "Artıklar ve Makine Öğrenmesindeki Önemi\n",
    "\n",
    "from sklearn.metrics import mean_squared_error, r2_score\n",
    "\n",
    "lm = smf.ols(\"sales ~TV\",df)\n",
    "model = lm.fit()\n",
    "mse = mean_squared_error(y,model.fittedvalues)\n",
    "rmse = np.sqrt(mse)\n",
    "reg.predict(X)[0:10]\n",
    "y[0:10]\n",
    "k_t = pd.DataFrame({\"gercek_y\":y[0:10],\n",
    "                   \"tahmin_y\":C })\n",
    "\n",
    "k_t[\"hata\"] = k_t[\"gercek_y\"] - k_t[\"tahmin_y\"]\n",
    "k_t\n",
    "k_t[\"hata_kare\"] = k_t[\"hata\"]**2\n",
    "k_t\n",
    "\n",
    "\n",
    "np.sum(k_t[\"hata_kare\"])\n",
    "np.mean(k_t[\"hata_kare\"])\n",
    "np.sqrt(np.mean(k_t[\"hata_kare\"]))\n",
    "model.resid[0:10] #artıklarplt.plot(model.resid);"
   ]
  },
  {
   "cell_type": "markdown",
   "metadata": {},
   "source": [
    "Train-Test Split and feature scaling"
   ]
  },
  {
   "cell_type": "raw",
   "metadata": {},
   "source": [
    "from sklearn.model_selection import train_test_split\n",
    "\n",
    "np.random.seed(0)\n",
    "df_train, df_test = train_test_split(cars_lr, train_size = 0.7, test_size = 0.3, random_state = 100)"
   ]
  },
  {
   "cell_type": "raw",
   "metadata": {},
   "source": [
    "from sklearn.preprocessing import MinMaxScaler\n",
    "\n",
    "scaler = MinMaxScaler()\n",
    "num_vars = ['wheelbase', 'curbweight', 'enginesize', 'boreratio', 'horsepower','fueleconomy','carlength','carwidth','price']\n",
    "df_train[num_vars] = scaler.fit_transform(df_train[num_vars])"
   ]
  },
  {
   "cell_type": "raw",
   "metadata": {},
   "source": [
    "y_train = df_train.pop('price')\n",
    "X_train = df_train"
   ]
  },
  {
   "cell_type": "markdown",
   "metadata": {},
   "source": [
    "Model Building"
   ]
  },
  {
   "cell_type": "raw",
   "metadata": {},
   "source": [
    "from sklearn.feature_selection import RFE\n",
    "from sklearn.linear_model import LinearRegression\n",
    "import statsmodels.api as sm \n",
    "from statsmodels.stats.outliers_influence import variance_inflation_factor\n",
    "\n",
    "\n",
    "lm = LinearRegression()\n",
    "lm.fit(X_train,y_train)\n",
    "rfe = RFE(lm, 10)\n",
    "rfe = rfe.fit(X_train, y_train)\n",
    "list(zip(X_train.columns,rfe.support_,rfe.ranking_))\n",
    "X_train.columns[rfe.support_]\n",
    "X_train_rfe = X_train[X_train.columns[rfe.support_]]\n",
    "X_train_rfe.head()\n",
    "\n",
    "def build_model(X,y):\n",
    "    X = sm.add_constant(X) #Adding the constant\n",
    "    lm = sm.OLS(y,X).fit() # fitting the model\n",
    "    print(lm.summary()) # model summary\n",
    "    return X\n",
    "    \n",
    "def checkVIF(X):\n",
    "    vif = pd.DataFrame()\n",
    "    vif['Features'] = X.columns\n",
    "    vif['VIF'] = [variance_inflation_factor(X.values, i) for i in range(X.shape[1])]\n",
    "    vif['VIF'] = round(vif['VIF'], 2)\n",
    "    vif = vif.sort_values(by = \"VIF\", ascending = False)\n",
    "    return(vif)\n",
    "    \n",
    "X_train_new = build_model(X_train_rfe,y_train)"
   ]
  },
  {
   "cell_type": "markdown",
   "metadata": {},
   "source": [
    "Residual Analysis of Model"
   ]
  },
  {
   "cell_type": "raw",
   "metadata": {},
   "source": [
    "lm = sm.OLS(y_train,X_train_new).fit()\n",
    "y_train_price = lm.predict(X_train_new)\n",
    "\n",
    "# Plot the histogram of the error terms\n",
    "fig = plt.figure()\n",
    "sns.distplot((y_train - y_train_price), bins = 20)\n",
    "fig.suptitle('Error Terms', fontsize = 20)                  # Plot heading \n",
    "plt.xlabel('Errors', fontsize = 18) "
   ]
  },
  {
   "cell_type": "markdown",
   "metadata": {},
   "source": [
    "Prediction and Evaluation"
   ]
  },
  {
   "cell_type": "code",
   "execution_count": null,
   "metadata": {},
   "outputs": [],
   "source": [
    "#Scaling the test set\n",
    "num_vars = ['wheelbase', 'curbweight', 'enginesize', 'boreratio', 'horsepower','fueleconomy','carlength','carwidth','price']\n",
    "df_test[num_vars] = scaler.fit_transform(df_test[num_vars])\n",
    "\n",
    "#Dividing into X and y\n",
    "y_test = df_test.pop('price')\n",
    "X_test = df_test\n",
    "\n",
    "\n",
    "# Now let's use our model to make predictions.\n",
    "X_train_new = X_train_new.drop('const',axis=1)\n",
    "# Creating X_test_new dataframe by dropping variables from X_test\n",
    "X_test_new = X_test[X_train_new.columns]\n",
    "\n",
    "# Adding a constant variable \n",
    "X_test_new = sm.add_constant(X_test_new)\n",
    "\n",
    "# Making predictions\n",
    "y_pred = lm.predict(X_test_new)\n",
    "\n",
    "# Evaluation of test via comparison of y_pred and y_test\n",
    "from sklearn.metrics import r2_score \n",
    "r2_score(y_test, y_pred)\n",
    "\n",
    "#EVALUATION OF THE MODEL\n",
    "# Plotting y_test and y_pred to understand the spread.\n",
    "fig = plt.figure()\n",
    "plt.scatter(y_test,y_pred)\n",
    "fig.suptitle('y_test vs y_pred', fontsize=20)              # Plot heading \n",
    "plt.xlabel('y_test', fontsize=18)                          # X-label\n",
    "plt.ylabel('y_pred', fontsize=16)   \n",
    "\n",
    "# Evaluation of the model using Statistics\n",
    "print(lm.summary())"
   ]
  }
 ],
 "metadata": {
  "kernelspec": {
   "display_name": "Python 3",
   "language": "python",
   "name": "python3"
  },
  "language_info": {
   "codemirror_mode": {
    "name": "ipython",
    "version": 3
   },
   "file_extension": ".py",
   "mimetype": "text/x-python",
   "name": "python",
   "nbconvert_exporter": "python",
   "pygments_lexer": "ipython3",
   "version": "3.7.4"
  }
 },
 "nbformat": 4,
 "nbformat_minor": 4
}
